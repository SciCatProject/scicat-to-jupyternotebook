{
 "cells": [
  {
   "cell_type": "markdown",
   "id": "1a4aa4d6-7a98-4229-a492-6b6532e6014f",
   "metadata": {},
   "source": [
    "# SciCat Jupyter notebook\n",
    "## Instance: idce5fec2-6a5e-11ed-9932-874c95750a47\n",
    "## User: your_nice_scicat_user\n",
    "\n",
    "This notebook is the standard Jupyter Notebook provided with SciCat to load and work the selected datasets.\n",
    "It contains the basic code to load the dataset metadata from scicat and, eventually, download (if needed) and access the data files.\n",
    "\n",
    "It used the following libraries:\n",
    "- pySciCat\n",
    "- Scitacean\n"
   ]
  },
  {
   "cell_type": "markdown",
   "id": "86708906-d458-49f3-90b9-5f76e9e0066c",
   "metadata": {},
   "source": [
    "Data coming from SciCat"
   ]
  },
  {
   "cell_type": "code",
   "execution_count": null,
   "id": "7ec7c4cd-714f-4c20-a9d2-fe5ceaefe504",
   "metadata": {},
   "outputs": [],
   "source": [
    "json_data = '{\"user\":\"your_nice_scicat_user\",\"request_id\":\"idce5fec2-6a5e-11ed-9932-874c95750a47\",\"scicat_instance_url\":\"https://your.scicat.instance.ext\",\"scicat_token\": \"yout_scicat_token\",\"datasets\":[\"20.500.12269/99ae086f-62dc-4228-a283-cc1c988c9e59\",\"20.500.12269/041e81c7-f96f-4447-bb34-c8047a6425ac\",\"20.500.12269/6a67b6e6-a202-4a6c-9859-4fecd6655165\",\"20.500.12269/f685a72d-663f-4592-b593-110624d70eb5\"]}'\n",
    "instance_id = \"idce5fec2-6a5e-11ed-9932-874c95750a47\""
   ]
  },
  {
   "cell_type": "markdown",
   "id": "8e4e689c-caaf-4815-a3e1-1027883e2ee0",
   "metadata": {},
   "source": [
    "Importing libraries to load data"
   ]
  },
  {
   "cell_type": "code",
   "execution_count": null,
   "id": "c997ff3b-8442-4522-8e4d-17fb28bcc8c4",
   "metadata": {},
   "outputs": [],
   "source": [
    "from scitacean import Client\n",
    "from scitacean.transfer.ess import ESSTestFileTransfer"
   ]
  },
  {
   "cell_type": "code",
   "execution_count": null,
   "id": "5533b500-6505-4157-83c8-31f4772e1d7c",
   "metadata": {},
   "outputs": [],
   "source": [
    "import json"
   ]
  },
  {
   "cell_type": "markdown",
   "id": "19e91c52-5371-4e7f-9eb8-1e828e04a94b",
   "metadata": {},
   "source": [
    "Convert input data from json string to python data"
   ]
  },
  {
   "cell_type": "code",
   "execution_count": null,
   "id": "ca0deb08-c42a-419c-9e57-1fa40cc6fa4a",
   "metadata": {},
   "outputs": [],
   "source": [
    "data = json.loads(json_data)"
   ]
  },
  {
   "cell_type": "markdown",
   "id": "0f46604f-99d2-4d7d-95a6-8b667dff940c",
   "metadata": {},
   "source": [
    "Instantiate scitacean client"
   ]
  },
  {
   "cell_type": "code",
   "execution_count": null,
   "id": "2fb9710d-591c-4048-a987-dd79370fcb54",
   "metadata": {},
   "outputs": [],
   "source": [
    "scicat_api_url = data[\"scicat_instance_url\"] + \"/api/v3\"\n",
    "scicat_token = data[\"scicat_token\"]"
   ]
  },
  {
   "cell_type": "code",
   "execution_count": null,
   "id": "c4f1c4a8-e8a6-4f44-ab1f-7a3ce7ecdc5e",
   "metadata": {},
   "outputs": [],
   "source": [
    "client = Client.from_token(\n",
    "    url=data[\"scicat_instance_url\"] + \"/api/v3\",\n",
    "    token=scicat_token,\n",
    "    file_transfer=ESSTestFileTransfer(\n",
    "        host=\"login.esss.dk\"\n",
    "    )\n",
    ")"
   ]
  },
  {
   "cell_type": "markdown",
   "id": "7fc81310-e9d7-48b6-be13-32b863ce3c19",
   "metadata": {},
   "source": [
    "Show which datasets are going to be loaded"
   ]
  },
  {
   "cell_type": "code",
   "execution_count": null,
   "id": "b3216c8f-7dc9-471f-ad31-d81c0620f26c",
   "metadata": {},
   "outputs": [],
   "source": [
    "data[\"datasets\"]"
   ]
  },
  {
   "cell_type": "markdown",
   "id": "ff394038-c5d5-4612-8f53-b8bd3b06e8fa",
   "metadata": {},
   "source": [
    "Load metadata for the datasets"
   ]
  },
  {
   "cell_type": "code",
   "execution_count": null,
   "id": "9c3fa98e-a83d-4a80-bf36-278c70c51b5c",
   "metadata": {},
   "outputs": [],
   "source": [
    "datasets = {}\n",
    "for pid in data['datasets']:\n",
    "    datasets[pid] = client.get_dataset(pid)"
   ]
  },
  {
   "cell_type": "markdown",
   "id": "e6801e9d-acdf-491b-99ad-289b28eda85c",
   "metadata": {},
   "source": [
    "Show metadata for the first dataset"
   ]
  },
  {
   "cell_type": "code",
   "execution_count": null,
   "id": "dc05d8e5-08a0-46ac-9c7c-412a4f4340f0",
   "metadata": {},
   "outputs": [],
   "source": [
    "datasets['20.500.12269/99ae086f-62dc-4228-a283-cc1c988c9e59']"
   ]
  },
  {
   "cell_type": "markdown",
   "id": "cc30c36d-2f18-4040-a77c-ab4f8a181639",
   "metadata": {},
   "source": [
    "If you would like to access the dataset data files, or need more information about retrieving the data files, please check the following documentation page:\n",
    "- https://scicatproject.github.io/scitacean/user-guide/downloading.html#Files"
   ]
  },
  {
   "cell_type": "markdown",
   "id": "8660fdfe-7f30-47a5-ac7a-dfe74b279dce",
   "metadata": {},
   "source": [
    "The main documentation page for Scitacean can be found at:\n",
    "- https://scicatproject.github.io/scitacean/index.html"
   ]
  },
  {
   "cell_type": "code",
   "execution_count": null,
   "id": "1f4dd088-5ea2-4ceb-abb1-29e33d2ae30a",
   "metadata": {},
   "outputs": [],
   "source": []
  }
 ],
 "metadata": {
  "kernelspec": {
   "display_name": "Python 3 (ipykernel)",
   "language": "python",
   "name": "python3"
  },
  "language_info": {
   "codemirror_mode": {
    "name": "ipython",
    "version": 3
   },
   "file_extension": ".py",
   "mimetype": "text/x-python",
   "name": "python",
   "nbconvert_exporter": "python",
   "pygments_lexer": "ipython3",
   "version": "3.10.6"
  }
 },
 "nbformat": 4,
 "nbformat_minor": 5
}
