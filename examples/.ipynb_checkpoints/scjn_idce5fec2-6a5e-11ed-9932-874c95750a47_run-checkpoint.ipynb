{
 "cells": [
  {
   "cell_type": "markdown",
   "id": "1a4aa4d6-7a98-4229-a492-6b6532e6014f",
   "metadata": {},
   "source": [
    "# SciCat Jupyter notebook\n",
    "## Instance: idce5fec2-6a5e-11ed-9932-874c95750a47\n",
    "## User: massimilianonovelli\n",
    "\n",
    "This notebook is the standard Jupyter Notebook provided with SciCat to load and work the selected datasets.\n",
    "It contains the basic code to load the dataset metadata from scicat and, eventually, download (if needed) and access the data files.\n",
    "\n",
    "It used the following libraries:\n",
    "- pySciCat\n",
    "- Scitacean\n"
   ]
  },
  {
   "cell_type": "markdown",
   "id": "86708906-d458-49f3-90b9-5f76e9e0066c",
   "metadata": {},
   "source": [
    "Data coming from SciCat"
   ]
  },
  {
   "cell_type": "code",
   "execution_count": 3,
   "id": "7ec7c4cd-714f-4c20-a9d2-fe5ceaefe504",
   "metadata": {},
   "outputs": [],
   "source": [
    "json_data = '{\"user\":\"massimilianonovelli\",\"request_id\":\"idce5fec2-6a5e-11ed-9932-874c95750a47\",\"scicat_instance_url\":\"https://staging.scicat.ess.eu\",\"scicat_token\": \"cff29422-6a64-11ed-9167-dbbb4141eb7c\",\"datasets\":[\"20.500.12269/99ae086f-62dc-4228-a283-cc1c988c9e59\",\"20.500.12269/041e81c7-f96f-4447-bb34-c8047a6425ac\",\"20.500.12269/6a67b6e6-a202-4a6c-9859-4fecd6655165\",\"20.500.12269/f685a72d-663f-4592-b593-110624d70eb5\"]}'\n",
    "instance_id = \"idce5fec2-6a5e-11ed-9932-874c95750a47\""
   ]
  },
  {
   "cell_type": "markdown",
   "id": "8e4e689c-caaf-4815-a3e1-1027883e2ee0",
   "metadata": {},
   "source": [
    "Importing libraries to load data"
   ]
  },
  {
   "cell_type": "code",
   "execution_count": 4,
   "id": "c997ff3b-8442-4522-8e4d-17fb28bcc8c4",
   "metadata": {},
   "outputs": [
    {
     "name": "stderr",
     "output_type": "stream",
     "text": [
      "/home/nitrosx71/miniconda3/envs/data_curation/lib/python3.10/site-packages/paramiko/transport.py:219: CryptographyDeprecationWarning: Blowfish has been deprecated\n",
      "  \"class\": algorithms.Blowfish,\n"
     ]
    }
   ],
   "source": [
    "from scitacean import Client\n",
    "from scitacean.transfer.ess import ESSTestFileTransfer"
   ]
  },
  {
   "cell_type": "code",
   "execution_count": 5,
   "id": "5533b500-6505-4157-83c8-31f4772e1d7c",
   "metadata": {},
   "outputs": [],
   "source": [
    "import json"
   ]
  },
  {
   "cell_type": "markdown",
   "id": "19e91c52-5371-4e7f-9eb8-1e828e04a94b",
   "metadata": {},
   "source": [
    "Convert input data from json string to python data"
   ]
  },
  {
   "cell_type": "code",
   "execution_count": 7,
   "id": "ca0deb08-c42a-419c-9e57-1fa40cc6fa4a",
   "metadata": {},
   "outputs": [],
   "source": [
    "data = json.loads(json_data)"
   ]
  },
  {
   "cell_type": "markdown",
   "id": "0f46604f-99d2-4d7d-95a6-8b667dff940c",
   "metadata": {},
   "source": [
    "Instantiate scitacean client"
   ]
  },
  {
   "cell_type": "code",
   "execution_count": 8,
   "id": "2fb9710d-591c-4048-a987-dd79370fcb54",
   "metadata": {},
   "outputs": [],
   "source": [
    "scicat_api_url = data[\"scicat_instance_url\"] + \"/api/v3\"\n",
    "scicat_token = data[\"scicat_token\"]"
   ]
  },
  {
   "cell_type": "code",
   "execution_count": 13,
   "id": "c4f1c4a8-e8a6-4f44-ab1f-7a3ce7ecdc5e",
   "metadata": {},
   "outputs": [],
   "source": [
    "client = Client.from_token(\n",
    "    url=data[\"scicat_instance_url\"] + \"/api/v3\",\n",
    "    token=scicat_token,\n",
    "    file_transfer=ESSTestFileTransfer(\n",
    "        host=\"login.esss.dk\"\n",
    "    )\n",
    ")"
   ]
  },
  {
   "cell_type": "markdown",
   "id": "7fc81310-e9d7-48b6-be13-32b863ce3c19",
   "metadata": {},
   "source": [
    "Show which datasets are going to be loaded"
   ]
  },
  {
   "cell_type": "code",
   "execution_count": 14,
   "id": "b3216c8f-7dc9-471f-ad31-d81c0620f26c",
   "metadata": {},
   "outputs": [
    {
     "data": {
      "text/plain": [
       "['20.500.12269/99ae086f-62dc-4228-a283-cc1c988c9e59',\n",
       " '20.500.12269/041e81c7-f96f-4447-bb34-c8047a6425ac',\n",
       " '20.500.12269/6a67b6e6-a202-4a6c-9859-4fecd6655165',\n",
       " '20.500.12269/f685a72d-663f-4592-b593-110624d70eb5']"
      ]
     },
     "execution_count": 14,
     "metadata": {},
     "output_type": "execute_result"
    }
   ],
   "source": [
    "data[\"datasets\"]"
   ]
  },
  {
   "cell_type": "markdown",
   "id": "ff394038-c5d5-4612-8f53-b8bd3b06e8fa",
   "metadata": {},
   "source": [
    "Load metadata for the datasets"
   ]
  },
  {
   "cell_type": "code",
   "execution_count": 15,
   "id": "9c3fa98e-a83d-4a80-bf36-278c70c51b5c",
   "metadata": {},
   "outputs": [],
   "source": [
    "datasets = {}\n",
    "for pid in data['datasets']:\n",
    "    datasets[pid] = client.get_dataset(pid)"
   ]
  },
  {
   "cell_type": "markdown",
   "id": "e6801e9d-acdf-491b-99ad-289b28eda85c",
   "metadata": {},
   "source": [
    "Show metadata for the first dataset"
   ]
  },
  {
   "cell_type": "code",
   "execution_count": 16,
   "id": "dc05d8e5-08a0-46ac-9c7c-412a4f4340f0",
   "metadata": {},
   "outputs": [
    {
     "data": {
      "text/html": [
       "<table>\n",
       "        <tr>\n",
       "            <th>Name</th><th>Required</th><th>Type</th><th>Value</th><th>Description</th>\n",
       "        </tr>\n",
       "        <tr><td>access_groups</td><td>*</td><td>list[str]</td><td>[&#x27;ymir&#x27;, &#x27;swap&#x27;, &#x27;ess&#x27;]</td><td>N/A</tr></td>\n",
       "<tr><td>contact_email</td><td>*</td><td>str</td><td>jekabs.karklins@esss.se</td><td>N/A</tr></td>\n",
       "<tr><td>creation_time</td><td>*</td><td>str</td><td>2022-11-15T16:51:59.000Z</td><td>N/A</tr></td>\n",
       "<tr><td>dataset_type</td><td>*</td><td>&lt;enum &#x27;DatasetType&#x27;&gt;</td><td>DatasetType.raw</td><td>N/A</tr></td>\n",
       "<tr><td>owner</td><td>*</td><td>str</td><td>Jekabs Karklins</td><td>N/A</tr></td>\n",
       "<tr><td>owner_group</td><td>*</td><td>str</td><td>038243</td><td>N/A</tr></td>\n",
       "<tr><td>source_folder</td><td>*</td><td>str</td><td>/ess/data/ymir/2022</td><td>N/A</tr></td>\n",
       "<tr><td>classification</td><td></td><td>str</td><td>IN=medium,AV=low,CO=low</td><td>N/A</tr></td>\n",
       "<tr><td>created_at</td><td></td><td>str</td><td>2022-11-15T16:51:53.686Z</td><td>N/A</tr></td>\n",
       "<tr><td>created_by</td><td></td><td>str</td><td>ingestor</td><td>N/A</tr></td>\n",
       "<tr><td>creation_location</td><td></td><td>str</td><td>ymir</td><td>N/A</tr></td>\n",
       "<tr><td>data_format</td><td></td><td>str</td><td>None</td><td>N/A</tr></td>\n",
       "<tr><td>dataset_name</td><td></td><td>str</td><td>can_we_crash_the_filewriter</td><td>N/A</tr></td>\n",
       "<tr><td>description</td><td></td><td>str</td><td>Dataset: 99ae086f-62dc-4228-a283-cc1c988c9e59. Proposal: 038243. Sample: ebfb7106-b885-4eda-b414-3f6fb80443e4. Instrument: unknown. File: 038243_00001420.hdf</td><td>N/A</tr></td>\n",
       "<tr><td>end_time</td><td></td><td>str</td><td>None</td><td>N/A</tr></td>\n",
       "<tr><td>history</td><td></td><td>typing.List[dict]</td><td>[]</td><td>N/A</tr></td>\n",
       "<tr><td>input_datasets</td><td></td><td>list[str]</td><td>None</td><td>N/A</tr></td>\n",
       "<tr><td>instrument_id</td><td></td><td>str</td><td>ebfb7106-b885-4eda-b414-3f6fb80443e4</td><td>N/A</tr></td>\n",
       "<tr><td>investigator</td><td></td><td>str</td><td>Jekabs Karklins</td><td>N/A</tr></td>\n",
       "<tr><td>is_published</td><td></td><td>bool</td><td>False</td><td>N/A</tr></td>\n",
       "<tr><td>job_log_data</td><td></td><td>str</td><td>None</td><td>N/A</tr></td>\n",
       "<tr><td>job_parameters</td><td></td><td>&lt;class &#x27;dict&#x27;&gt;</td><td>None</td><td>N/A</tr></td>\n",
       "<tr><td>keywords</td><td></td><td>list[str]</td><td>None</td><td>N/A</tr></td>\n",
       "<tr><td>license</td><td></td><td>str</td><td>None</td><td>N/A</tr></td>\n",
       "<tr><td>orcid_of_owner</td><td></td><td>str</td><td>None</td><td>N/A</tr></td>\n",
       "<tr><td>owner_email</td><td></td><td>str</td><td>jekabs.karklins@esss.se</td><td>N/A</tr></td>\n",
       "<tr><td>proposal_id</td><td></td><td>str</td><td>038243</td><td>N/A</tr></td>\n",
       "<tr><td>sample_id</td><td></td><td>str</td><td></td><td>N/A</tr></td>\n",
       "<tr><td>shared_with</td><td></td><td>list[str]</td><td>None</td><td>N/A</tr></td>\n",
       "<tr><td>source_folder_host</td><td></td><td>str</td><td>None</td><td>N/A</tr></td>\n",
       "<tr><td>techniques</td><td></td><td>typing.List[dict]</td><td>[]</td><td>N/A</tr></td>\n",
       "<tr><td>updated_at</td><td></td><td>str</td><td>2022-11-15T16:51:53.817Z</td><td>N/A</tr></td>\n",
       "<tr><td>updated_by</td><td></td><td>str</td><td>anonymous</td><td>N/A</tr></td>\n",
       "<tr><td>used_software</td><td></td><td>list[str]</td><td>None</td><td>N/A</tr></td>\n",
       "<tr><td>validation_status</td><td></td><td>str</td><td>None</td><td>N/A</tr></td>\n",
       "<tr><td>version</td><td></td><td>str</td><td>3.1.0</td><td>N/A</tr></td>\n",
       "    </table>"
      ],
      "text/plain": [
       "Dataset(access_groups=['ymir', 'swap', 'ess'], contact_email='jekabs.karklins@esss.se', creation_time='2022-11-15T16:51:59.000Z', dataset_type=<DatasetType.raw: 'raw'>, owner='Jekabs Karklins', owner_group='038243', source_folder='/ess/data/ymir/2022', classification='IN=medium,AV=low,CO=low', created_at='2022-11-15T16:51:53.686Z', created_by='ingestor', creation_location='ymir', data_format=None, dataset_name='can_we_crash_the_filewriter', description='Dataset: 99ae086f-62dc-4228-a283-cc1c988c9e59. Proposal: 038243. Sample: ebfb7106-b885-4eda-b414-3f6fb80443e4. Instrument: unknown. File: 038243_00001420.hdf', end_time=None, history=[], input_datasets=None, instrument_id='ebfb7106-b885-4eda-b414-3f6fb80443e4', investigator='Jekabs Karklins', is_published=False, job_log_data=None, job_parameters=None, keywords=None, license=None, orcid_of_owner=None, owner_email='jekabs.karklins@esss.se', proposal_id='038243', sample_id='', shared_with=None, source_folder_host=None, techniques=[], updated_at='2022-11-15T16:51:53.817Z', updated_by='anonymous', used_software=None, validation_status=None, version='3.1.0')"
      ]
     },
     "execution_count": 16,
     "metadata": {},
     "output_type": "execute_result"
    }
   ],
   "source": [
    "datasets['20.500.12269/99ae086f-62dc-4228-a283-cc1c988c9e59']"
   ]
  },
  {
   "cell_type": "markdown",
   "id": "cc30c36d-2f18-4040-a77c-ab4f8a181639",
   "metadata": {},
   "source": [
    "If you would like to access the dataset data files, or need more information about retrieving the data files, please check the following documentation page:\n",
    "- https://scicatproject.github.io/scitacean/user-guide/downloading.html#Files"
   ]
  },
  {
   "cell_type": "markdown",
   "id": "8660fdfe-7f30-47a5-ac7a-dfe74b279dce",
   "metadata": {},
   "source": [
    "The main documentation page for Scitacean can be found at:\n",
    "- https://scicatproject.github.io/scitacean/index.html"
   ]
  },
  {
   "cell_type": "code",
   "execution_count": null,
   "id": "1f4dd088-5ea2-4ceb-abb1-29e33d2ae30a",
   "metadata": {},
   "outputs": [],
   "source": []
  }
 ],
 "metadata": {
  "kernelspec": {
   "display_name": "Python 3 (ipykernel)",
   "language": "python",
   "name": "python3"
  },
  "language_info": {
   "codemirror_mode": {
    "name": "ipython",
    "version": 3
   },
   "file_extension": ".py",
   "mimetype": "text/x-python",
   "name": "python",
   "nbconvert_exporter": "python",
   "pygments_lexer": "ipython3",
   "version": "3.10.6"
  }
 },
 "nbformat": 4,
 "nbformat_minor": 5
}
